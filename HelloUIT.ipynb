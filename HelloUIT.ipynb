{
  "nbformat": 4,
  "nbformat_minor": 0,
  "metadata": {
    "colab": {
      "name": "HelloUIT",
      "provenance": [],
      "collapsed_sections": [],
      "mount_file_id": "1KjWcEpfDL2mLBp5kAKUBzsm3D9L6JaaY",
      "authorship_tag": "ABX9TyN1gGJfxyZ0szHFfpHU/N26",
      "include_colab_link": true
    },
    "kernelspec": {
      "name": "python3",
      "display_name": "Python 3"
    }
  },
  "cells": [
    {
      "cell_type": "markdown",
      "metadata": {
        "id": "view-in-github",
        "colab_type": "text"
      },
      "source": [
        "<a href=\"https://colab.research.google.com/github/trietaron/UIT-AI-Challenge2020/blob/master/HelloUIT.ipynb\" target=\"_parent\"><img src=\"https://colab.research.google.com/assets/colab-badge.svg\" alt=\"Open In Colab\"/></a>"
      ]
    },
    {
      "cell_type": "code",
      "metadata": {
        "id": "j-PPb6Q7l6Oc",
        "colab_type": "code",
        "colab": {
          "base_uri": "https://localhost:8080/",
          "height": 50
        },
        "outputId": "eed0d808-8df2-4f9e-ab27-5ca5924e4711"
      },
      "source": [
        "print(\"Hello UIT\")\n",
        "print(\"AI-CHALLENGE BOOTCAMP\")"
      ],
      "execution_count": 1,
      "outputs": [
        {
          "output_type": "stream",
          "text": [
            "Hello UIT\n",
            "AI-CHALLENGE BOOTCAMP\n"
          ],
          "name": "stdout"
        }
      ]
    },
    {
      "cell_type": "code",
      "metadata": {
        "id": "gRry7zMUsNX-",
        "colab_type": "code",
        "colab": {
          "base_uri": "https://localhost:8080/",
          "height": 296
        },
        "outputId": "05f6d802-acda-4d8d-8793-5139d01530e8"
      },
      "source": [
        "import numpy as np\n",
        "import pandas as pd\n",
        "import matplotlib.pyplot as plt\n",
        "numOfPoint = 30\n",
        "noise = np.random.normal(0,1,numOfPoint).reshape(-1,1)\n",
        "x = np.linspace(30, 100, numOfPoint).reshape(-1,1)\n",
        "N = x.shape[0]\n",
        "y = 15*x + 8 + 20*noise\n",
        "plt.scatter(x, y)\n",
        "%matplotlib inline\n",
        "data = pd.read_csv('https://raw.githubusercontent.com/nttuan8/DL_Tutorial/master/L1/data_linear.csv').values\n",
        "N = data.shape[0]\n",
        "x = data[:, 0].reshape(-1, 1)\n",
        "y = data[:, 1].reshape(-1, 1)\n",
        "plt.scatter(x, y)\n",
        "plt.xticks(color='gray')\n",
        "plt.yticks(color='gray')\n",
        "plt.xlabel('m^2',color=\"orange\")\n",
        "plt.ylabel('price',color=\"orange\")\n",
        "\n",
        "x = np.hstack((np.ones((N, 1)), x))\n",
        "w = np.array([0.,1.]).reshape(-1,1)\n",
        "\n",
        "numOfIteration = 100\n",
        "cost = np.zeros((numOfIteration,1))\n",
        "learning_rate = 0.000001\n",
        "for i in range(1, numOfIteration):\n",
        "    r = np.dot(x, w) - y\n",
        "    cost[i] = 0.5*np.sum(r*r)\n",
        "    w[0] -= learning_rate*np.sum(r)\n",
        "    # correct the shape dimension\n",
        "    w[1] -= learning_rate*np.sum(np.multiply(r, x[:,1].reshape(-1,1)))\n",
        "    # print(cost[i])\n",
        "predict = np.dot(x, w)\n",
        "plt.plot((x[0][1], x[N-1][1]),(predict[0], predict[N-1]), 'red')\n",
        "plt.show()\n",
        "x1 = 95\n",
        "y1 = w[0] + w[1] * x1\n",
        "print('House price for',x1,'m^2 is : ', y1)"
      ],
      "execution_count": 7,
      "outputs": [
        {
          "output_type": "display_data",
          "data": {
            "image/png": "[encoded data removed]",
            "text/plain": [
              "<Figure size 432x288 with 1 Axes>"
            ]
          },
          "metadata": {
            "tags": [],
            "needs_background": "dark"
          }
        },
        {
          "output_type": "stream",
          "text": [
            "House price for 95 m^2 is :  [1435.63184667]\n"
          ],
          "name": "stdout"
        }
      ]
    }
  ]
}