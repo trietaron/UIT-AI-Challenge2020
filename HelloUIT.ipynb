{
  "nbformat": 4,
  "nbformat_minor": 0,
  "metadata": {
    "colab": {
      "name": "HelloUIT",
      "provenance": [],
      "collapsed_sections": [],
      "mount_file_id": "1KjWcEpfDL2mLBp5kAKUBzsm3D9L6JaaY",
      "authorship_tag": "ABX9TyMEWI0evsLUPNJPvYnk8GFW",
      "include_colab_link": true
    },
    "kernelspec": {
      "name": "python3",
      "display_name": "Python 3"
    }
  },
  "cells": [
    {
      "cell_type": "markdown",
      "metadata": {
        "id": "view-in-github",
        "colab_type": "text"
      },
      "source": [
        "<a href=\"https://colab.research.google.com/github/trietaron/UIT-AI-Challenge2020/blob/master/HelloUIT.ipynb\" target=\"_parent\"><img src=\"https://colab.research.google.com/assets/colab-badge.svg\" alt=\"Open In Colab\"/></a>"
      ]
    },
    {
      "cell_type": "code",
      "metadata": {
        "id": "j-PPb6Q7l6Oc",
        "colab_type": "code",
        "colab": {
          "base_uri": "https://localhost:8080/",
          "height": 50
        },
        "outputId": "eed0d808-8df2-4f9e-ab27-5ca5924e4711"
      },
      "source": [
        "print(\"Hello UIT\")\n",
        "print(\"AI-CHALLENGE BOOTCAMP\")"
      ],
      "execution_count": 1,
      "outputs": [
        {
          "output_type": "stream",
          "text": [
            "Hello UIT\n",
            "AI-CHALLENGE BOOTCAMP\n"
          ],
          "name": "stdout"
        }
      ]
    }
  ]
}