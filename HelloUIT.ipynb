{
  "nbformat": 4,
  "nbformat_minor": 0,
  "metadata": {
    "colab": {
      "name": "HelloUIT",
      "provenance": [],
      "collapsed_sections": [],
      "authorship_tag": "ABX9TyNnQW3IWcCEg2awY/3Qz5Xx",
      "include_colab_link": true
    },
    "kernelspec": {
      "name": "python3",
      "display_name": "Python 3"
    }
  },
  "cells": [
    {
      "cell_type": "markdown",
      "metadata": {
        "id": "view-in-github",
        "colab_type": "text"
      },
      "source": [
        "<a href=\"https://colab.research.google.com/github/trietdaron2000/UIT-AI-Challenge2020/blob/master/HelloUIT.ipynb\" target=\"_parent\"><img src=\"https://colab.research.google.com/assets/colab-badge.svg\" alt=\"Open In Colab\"/></a>"
      ]
    },
    {
      "cell_type": "code",
      "metadata": {
        "id": "j-PPb6Q7l6Oc",
        "colab_type": "code",
        "colab": {
          "base_uri": "https://localhost:8080/",
          "height": 50
        },
        "outputId": "8c4f3d5c-ec3a-4200-dede-2218fb86c0a9"
      },
      "source": [
        "print(\"Hello UIT\")\n",
        "print(\"AI-CHALLENGE BOOTCAMP\")"
      ],
      "execution_count": 4,
      "outputs": [
        {
          "output_type": "stream",
          "text": [
            "Hello UIT\n",
            "AI-CHALLENGE BOOTCAMP\n"
          ],
          "name": "stdout"
        }
      ]
    }
  ]
}